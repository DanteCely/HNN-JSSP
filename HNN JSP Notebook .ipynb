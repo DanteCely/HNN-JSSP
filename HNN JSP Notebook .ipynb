{
 "cells": [
  {
   "cell_type": "markdown",
   "metadata": {},
   "source": [
    "## HNN para resolver el JSSP"
   ]
  },
  {
   "cell_type": "markdown",
   "metadata": {},
   "source": [
    "#### librerías importadas"
   ]
  },
  {
   "cell_type": "code",
   "execution_count": 3,
   "metadata": {},
   "outputs": [],
   "source": [
    "import numpy as np\n",
    "import matplotlib.pyplot as plt"
   ]
  },
  {
   "cell_type": "markdown",
   "metadata": {},
   "source": [
    "#### Red neuronal de Hopfield"
   ]
  },
  {
   "cell_type": "code",
   "execution_count": 5,
   "metadata": {},
   "outputs": [],
   "source": [
    "class HNN:\n",
    "    def __init__(self, nJobs, nMachines):\n",
    "        self.n = nJobs\n",
    "        self.m = nMachines\n",
    "        self.s_units = self.n*self.m     #Numero de neuronas S\n",
    "        self.sc_units = self.n*(self.m-1)   #Numero de neuronas SC\n",
    "        self.rc_units = self.n*self.m*(self.n-1)    #Numero de neuronas RC\n",
    "        self.y_units =  self.rc_units/2         #Numero de neuronas Y\n",
    "        #Matrices de pesos iniciadas en 0's\n",
    "        self.wMatrix_s_sc = np.zeros((self.s_units, self.sc_units)) \n",
    "        self.wMatrix_s_rc = np.zeros((self.s_units, self.rc_units))\n",
    "        self.wMatrix_s_y = np.zeros((self.s_units, self.y_units))\n",
    "        self.wMatrix_sc_s = self.wMatrix_s_sc.T\n",
    "        self.wMatrix_rc_s = self.wMatrix_s_rc.T\n",
    "        #H es en número del multiplicador de la variable indicador iniciado en 0\n",
    "        self.H = 0\n",
    "    def _Schedule(self,maMatrix, tMatrix):\n",
    "        #maMatrix es la matriz que contiene las asignaciones de máquina\n",
    "        #tMatrix es la matriz que contiene los tiempos de cada tarea de cada job\n",
    "        \n",
    "        #A continuacion se inicia el parametro H:\n",
    "        self.H = np.sum(tMatrix) + 1\n",
    "        \n",
    "        #A continuacion se inician las matrices con los pesos segun las ecuaciones de prog. lineal"
   ]
  },
  {
   "cell_type": "code",
   "execution_count": null,
   "metadata": {},
   "outputs": [],
   "source": []
  }
 ],
 "metadata": {
  "kernelspec": {
   "display_name": "Python 3",
   "language": "python",
   "name": "python3"
  },
  "language_info": {
   "codemirror_mode": {
    "name": "ipython",
    "version": 3
   },
   "file_extension": ".py",
   "mimetype": "text/x-python",
   "name": "python",
   "nbconvert_exporter": "python",
   "pygments_lexer": "ipython3",
   "version": "3.7.3"
  }
 },
 "nbformat": 4,
 "nbformat_minor": 2
}
